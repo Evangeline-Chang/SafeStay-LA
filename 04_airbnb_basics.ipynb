{
 "cells": [
  {
   "cell_type": "markdown",
   "metadata": {},
   "source": [
    "# Obtain Information from Airbnb Listings Data\n",
    "2023-10-22<br>\n",
    "Evangeline Chang"
   ]
  },
  {
   "cell_type": "code",
   "execution_count": 1,
   "metadata": {},
   "outputs": [],
   "source": [
    "import pandas as pd\n",
    "import re\n",
    "\n",
    "import warnings\n",
    "warnings.filterwarnings(\"ignore\")"
   ]
  },
  {
   "cell_type": "code",
   "execution_count": 2,
   "metadata": {},
   "outputs": [
    {
     "name": "stdout",
     "output_type": "stream",
     "text": [
      "(100, 76)\n"
     ]
    }
   ],
   "source": [
    "listings_d = pd.read_csv('data/detailed_listings_test.csv')\n",
    "print(listings_d.shape)"
   ]
  },
  {
   "cell_type": "code",
   "execution_count": 4,
   "metadata": {},
   "outputs": [],
   "source": [
    "# see if the host is a superhost\n",
    "def superhost(host):\n",
    "    if host == 't':\n",
    "        return 'Yes'\n",
    "    else:\n",
    "        return 'No'\n",
    "    \n",
    "listings_d['SuperHost'] = listings_d['host_is_superhost'].apply(superhost)"
   ]
  },
  {
   "cell_type": "code",
   "execution_count": 6,
   "metadata": {},
   "outputs": [],
   "source": [
    "# get basic information of each Airbnb listing\n",
    "def basic_info(in_file):\n",
    "    for index, row in in_file.iterrows():\n",
    "        text = row['name']\n",
    "\n",
    "        if 'bedroom' not in text:\n",
    "            if 'Studio' in text:\n",
    "                in_file.at[index, 'bedrooms_n'] = 'Studio'\n",
    "            else:\n",
    "                in_file.at[index, 'bedrooms_n'] = 'Unknown'\n",
    "        if 'bed' not in text and 'bedroom' not in text:\n",
    "            in_file.at[index, 'beds_n'] = 'Unknown'\n",
    "        if 'bed' not in text and 'bedroom' in text:\n",
    "            in_file.at[index, 'beds_n'] = 'Unknown'\n",
    "        if 'bath' not in text:\n",
    "            in_file.at[index, 'baths_n'] = 'Unknown'\n",
    "\n",
    "        split = text.split(' · ')\n",
    "        for s in split:\n",
    "            if 'bedroom' in s:\n",
    "                bedroom = int(re.findall(r'[0-9*]', s)[0])\n",
    "                in_file.at[index, 'bedrooms_n'] = bedroom\n",
    "            elif 'bed' in s:\n",
    "                bed = int(re.findall(r'[0-9*]', s)[0])\n",
    "                in_file.at[index, 'beds_n'] = bed\n",
    "            elif 'bath' in s:\n",
    "                if 'Half-bath' in s or 'half-bath' in s:\n",
    "                    bath = 0.5\n",
    "                else:\n",
    "                    bath = int(re.findall(r'[0-9*]', s)[0])\n",
    "                in_file.at[index, 'baths_n'] = bath\n",
    "\n",
    "basic_info(listings_d)"
   ]
  },
  {
   "cell_type": "code",
   "execution_count": 7,
   "metadata": {},
   "outputs": [],
   "source": [
    "# exclude the columns that are not needed\n",
    "listings_d_new = listings_d[['id', 'listing_url', 'name', 'host_id', 'latitude', 'longitude', \n",
    "                             'property_type', 'room_type', 'price', 'accommodates', \n",
    "                             'review_scores_rating', 'review_scores_accuracy', 'review_scores_cleanliness', \n",
    "                             'review_scores_checkin', 'review_scores_communication', 'review_scores_location', 'review_scores_value', \n",
    "                             'SuperHost', 'bedrooms_n', 'beds_n', 'baths_n']]"
   ]
  },
  {
   "cell_type": "code",
   "execution_count": 8,
   "metadata": {},
   "outputs": [],
   "source": [
    "listings_d_new.to_csv('data/Airbnb_BasicInfo.csv')"
   ]
  },
  {
   "cell_type": "code",
   "execution_count": null,
   "metadata": {},
   "outputs": [],
   "source": []
  }
 ],
 "metadata": {
  "kernelspec": {
   "display_name": "base",
   "language": "python",
   "name": "python3"
  },
  "language_info": {
   "codemirror_mode": {
    "name": "ipython",
    "version": 3
   },
   "file_extension": ".py",
   "mimetype": "text/x-python",
   "name": "python",
   "nbconvert_exporter": "python",
   "pygments_lexer": "ipython3",
   "version": "3.9.7"
  }
 },
 "nbformat": 4,
 "nbformat_minor": 2
}
