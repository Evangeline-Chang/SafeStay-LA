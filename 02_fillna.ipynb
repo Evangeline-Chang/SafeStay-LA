{
 "cells": [
  {
   "cell_type": "markdown",
   "metadata": {},
   "source": [
    "# Input ZIP Code Data for Missing Values\n",
    "2023-10-04<br>\n",
    "Evangeline Chang"
   ]
  },
  {
   "cell_type": "code",
   "execution_count": 1,
   "metadata": {},
   "outputs": [],
   "source": [
    "import pandas as pd\n",
    "import os\n",
    "\n",
    "import warnings\n",
    "warnings.filterwarnings(\"ignore\", category=FutureWarning)"
   ]
  },
  {
   "cell_type": "code",
   "execution_count": 2,
   "metadata": {},
   "outputs": [],
   "source": [
    "crime = pd.read_csv('data/crime_data_2020_zip_na.csv')"
   ]
  },
  {
   "cell_type": "code",
   "execution_count": 3,
   "metadata": {},
   "outputs": [
    {
     "name": "stdout",
     "output_type": "stream",
     "text": [
      "5\n"
     ]
    }
   ],
   "source": [
    "crime = crime.sort_values(by=['LOCATION', 'Cross Street'], ignore_index=True)\n",
    "print(crime['ZIP'].isna().sum())"
   ]
  },
  {
   "cell_type": "markdown",
   "metadata": {},
   "source": [
    "Automate the process of inputting zip code data for rows with missing latitude and longitude data"
   ]
  },
  {
   "cell_type": "code",
   "execution_count": 4,
   "metadata": {},
   "outputs": [],
   "source": [
    "def fill_same(in_file):\n",
    "    rows_to_update = []\n",
    "\n",
    "    for index, row in in_file.iterrows():\n",
    "        if pd.isna(row['ZIP']):\n",
    "            prev_index = index - 1\n",
    "            next_index = index + 1\n",
    "\n",
    "            if prev_index >= 0 and in_file.at[index, 'LOCATION'] == in_file.at[prev_index, 'LOCATION']:\n",
    "                if pd.isna(in_file.at[index, 'Cross Street']) and pd.isna(in_file.at[prev_index, 'Cross Street']):\n",
    "                    rows_to_update.append((index, in_file.at[prev_index, 'ZIP']))\n",
    "                elif in_file.at[index, 'Cross Street'] == in_file.at[prev_index, 'Cross Street']:\n",
    "                    rows_to_update.append((index, in_file.at[prev_index, 'ZIP']))\n",
    "\n",
    "            elif next_index < len(in_file) and in_file.at[index, 'LOCATION'] == in_file.at[next_index, 'LOCATION']:\n",
    "                if pd.isna(in_file.at[index, 'Cross Street']) and pd.isna(in_file.at[next_index, 'Cross Street']):\n",
    "                    rows_to_update.append((index, in_file.at[next_index, 'ZIP'])) \n",
    "                elif in_file.at[index, 'Cross Street'] == in_file.at[next_index, 'Cross Street']:\n",
    "                    rows_to_update.append((index, in_file.at[next_index, 'ZIP']))\n",
    "\n",
    "    for index, zip_code in rows_to_update:\n",
    "        in_file.at[index, 'ZIP'] = zip_code"
   ]
  },
  {
   "cell_type": "code",
   "execution_count": 5,
   "metadata": {},
   "outputs": [],
   "source": [
    "num_iterations = 2   #run fill_same(crime) several times \n",
    "\n",
    "for _ in range(num_iterations):\n",
    "    fill_same(crime)"
   ]
  },
  {
   "cell_type": "code",
   "execution_count": 6,
   "metadata": {},
   "outputs": [
    {
     "data": {
      "text/plain": [
       "0"
      ]
     },
     "execution_count": 6,
     "metadata": {},
     "output_type": "execute_result"
    }
   ],
   "source": [
    "crime['ZIP'].isna().sum()  # the rest has to be input manually"
   ]
  },
  {
   "cell_type": "code",
   "execution_count": 7,
   "metadata": {},
   "outputs": [],
   "source": [
    "output_directory = 'data/'\n",
    "\n",
    "if not os.path.exists(output_directory):\n",
    "    os.makedirs(output_directory)\n",
    "    \n",
    "crime.to_csv('data/crime_data_2020_zipcode_final_2.csv')"
   ]
  },
  {
   "cell_type": "code",
   "execution_count": null,
   "metadata": {},
   "outputs": [],
   "source": []
  }
 ],
 "metadata": {
  "kernelspec": {
   "display_name": "base",
   "language": "python",
   "name": "python3"
  },
  "language_info": {
   "codemirror_mode": {
    "name": "ipython",
    "version": 3
   },
   "file_extension": ".py",
   "mimetype": "text/x-python",
   "name": "python",
   "nbconvert_exporter": "python",
   "pygments_lexer": "ipython3",
   "version": "3.9.7"
  },
  "orig_nbformat": 4
 },
 "nbformat": 4,
 "nbformat_minor": 2
}
