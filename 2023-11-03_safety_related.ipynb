{
 "cells": [
  {
   "cell_type": "code",
   "execution_count": 23,
   "metadata": {},
   "outputs": [],
   "source": [
    "import pandas as pd\n",
    "from tqdm import tqdm\n",
    "import re\n",
    "import regex\n",
    "import warnings\n",
    "warnings.filterwarnings(\"ignore\")"
   ]
  },
  {
   "cell_type": "code",
   "execution_count": 24,
   "metadata": {},
   "outputs": [],
   "source": [
    "review_after2020 = pd.read_csv('reviews_2020_check_safe.csv', index_col=0)\n",
    "keywords = pd.read_csv('keywords.csv')"
   ]
  },
  {
   "cell_type": "code",
   "execution_count": 25,
   "metadata": {},
   "outputs": [],
   "source": [
    "safe_df = review_after2020.groupby('listing_id')['comments'].apply(lambda x: \" \".join(x)).reset_index()"
   ]
  },
  {
   "cell_type": "code",
   "execution_count": 26,
   "metadata": {},
   "outputs": [],
   "source": [
    "safety_keywords = [\"safe\", \"security\", \"danger\", \"unsafe\", 'safety', 'dangerous']"
   ]
  },
  {
   "cell_type": "code",
   "execution_count": 27,
   "metadata": {},
   "outputs": [
    {
     "name": "stderr",
     "output_type": "stream",
     "text": [
      "100%|██████████| 4/4 [00:00<00:00, 10958.34it/s]\n"
     ]
    }
   ],
   "source": [
    "# see if the comments contain safety-related content\n",
    "def is_safety_related(review_text):\n",
    "    for keyword in safety_keywords:\n",
    "        if re.search(keyword, review_text, flags=re.IGNORECASE):\n",
    "            return True\n",
    "    return False\n",
    "\n",
    "tqdm.pandas()\n",
    "safe_df['Safety_Related'] = safe_df['comments'].progress_apply(is_safety_related)"
   ]
  },
  {
   "cell_type": "code",
   "execution_count": 28,
   "metadata": {},
   "outputs": [
    {
     "name": "stdout",
     "output_type": "stream",
     "text": [
      "1\n"
     ]
    }
   ],
   "source": [
    "# exclude rows that have gone through keyword extraction\n",
    "safe_df = safe_df[safe_df['Safety_Related'] == True]\n",
    "\n",
    "listing_ids_to_remove = keywords['listing_id'].unique()\n",
    "\n",
    "safe_df = safe_df[~safe_df['listing_id'].isin(listing_ids_to_remove)]\n",
    "safe_df.drop(columns=['Safety_Related'], inplace=True)\n",
    "print(len(safe_df))"
   ]
  },
  {
   "cell_type": "code",
   "execution_count": 29,
   "metadata": {},
   "outputs": [],
   "source": [
    "# extract the words around the keyword\n",
    "def extract_context(text):\n",
    "    words = re.findall(r'\\b\\w+\\b', text)\n",
    "    context_lists = []\n",
    "\n",
    "    for i, word in enumerate(words):\n",
    "        if word.lower() in safety_keywords:\n",
    "            start = max(0, i - 3)\n",
    "            end = min(i + 4, len(words))\n",
    "            context = \" \".join(words[start:end])\n",
    "            context_lists.append(context)\n",
    "\n",
    "    return context_lists\n",
    "\n",
    "safe_df['Safety_Context'] = safe_df['comments'].apply(extract_context)"
   ]
  },
  {
   "cell_type": "code",
   "execution_count": 30,
   "metadata": {},
   "outputs": [],
   "source": [
    "# determine whether it's unsafe or not\n",
    "safe_df['not_safe_all'] = None\n",
    "\n",
    "for index, row in safe_df.iterrows():\n",
    "    context = row['Safety_Context']\n",
    "    if len(context) != 0:\n",
    "        if len(context) == 1:\n",
    "            if 'safe' in context[0].lower() and 'not' in context[0].lower():\n",
    "                safe_df.at[index, 'not_safe_all'] = 'Not Safe'\n",
    "            elif 'unsafe' in context[0].lower() and 'never' not in context[0].lower() and 'not' not in context[0].lower():\n",
    "                safe_df.at[index, 'not_safe_all'] = 'Not Safe'\n",
    "            elif 'dangerous' in context[0].lower() and 'never' not in context[0].lower() and 'not' not in context[0].lower():\n",
    "                safe_df.at[index, 'not_safe_all'] = 'Not Safe'\n",
    "            \n",
    "        else:\n",
    "            all_items_contain_not_safe = all(['safe' in item.lower() and 'not' in item.lower() for item in context])\n",
    "            all_unsafe = all(['unsafe' in item.lower() and 'never' not in item.lower() and 'not' not in item.lower() for item in context])\n",
    "            if all_items_contain_not_safe:\n",
    "                safe_df.at[index, 'not_safe_all'] = 'Not Safe'\n",
    "            elif all_unsafe:\n",
    "                safe_df.at[index, 'not_safe_all'] = 'Not Safe'"
   ]
  },
  {
   "cell_type": "code",
   "execution_count": 31,
   "metadata": {},
   "outputs": [],
   "source": [
    "# join back to the listing file\n",
    "listings = pd.read_csv('data/Airbnb_keywords.csv', index_col=0)\n",
    "listing_safety_joined = pd.merge(listings, safe_df[['listing_id', 'not_safe_all']], left_on='id', right_on='listing_id', how='left')\n",
    "listing_safety_joined.drop(columns=['listing_id'], inplace=True)"
   ]
  },
  {
   "cell_type": "code",
   "execution_count": 32,
   "metadata": {},
   "outputs": [],
   "source": [
    "# join two safe-related column, will be used on visualization\n",
    "for index, row in listing_safety_joined.iterrows():\n",
    "    nots = row['not_safe_all']\n",
    "    if nots == 'Not Safe':\n",
    "        listing_safety_joined.at[index, 'safe_all'] = 'Not Safe'\n",
    "    elif nots == 'Safe':\n",
    "        listing_safety_joined.at[index, 'safe_all'] = 'Safe'\n",
    "\n",
    "listing_safety_joined.drop(columns=['not_safe_all'], inplace=True)"
   ]
  },
  {
   "cell_type": "code",
   "execution_count": 33,
   "metadata": {},
   "outputs": [
    {
     "data": {
      "text/html": [
       "<div>\n",
       "<style scoped>\n",
       "    .dataframe tbody tr th:only-of-type {\n",
       "        vertical-align: middle;\n",
       "    }\n",
       "\n",
       "    .dataframe tbody tr th {\n",
       "        vertical-align: top;\n",
       "    }\n",
       "\n",
       "    .dataframe thead th {\n",
       "        text-align: right;\n",
       "    }\n",
       "</style>\n",
       "<table border=\"1\" class=\"dataframe\">\n",
       "  <thead>\n",
       "    <tr style=\"text-align: right;\">\n",
       "      <th></th>\n",
       "      <th>id</th>\n",
       "      <th>listing_url</th>\n",
       "      <th>name</th>\n",
       "      <th>host_id</th>\n",
       "      <th>host_name</th>\n",
       "      <th>latitude</th>\n",
       "      <th>longitude</th>\n",
       "      <th>property_type</th>\n",
       "      <th>room_type</th>\n",
       "      <th>price</th>\n",
       "      <th>...</th>\n",
       "      <th>one</th>\n",
       "      <th>two</th>\n",
       "      <th>three</th>\n",
       "      <th>four</th>\n",
       "      <th>five</th>\n",
       "      <th>six</th>\n",
       "      <th>seven</th>\n",
       "      <th>safe</th>\n",
       "      <th>safe_all</th>\n",
       "      <th>keywords_title</th>\n",
       "    </tr>\n",
       "  </thead>\n",
       "  <tbody>\n",
       "    <tr>\n",
       "      <th>0</th>\n",
       "      <td>7095631</td>\n",
       "      <td>https://www.airbnb.com/rooms/7095631</td>\n",
       "      <td>Condo in Torrance · ★4.70 · 1 bedroom · 1 bed ...</td>\n",
       "      <td>6205097</td>\n",
       "      <td>Irina</td>\n",
       "      <td>33.82065</td>\n",
       "      <td>-118.30587</td>\n",
       "      <td>Private room in condo</td>\n",
       "      <td>Private Room</td>\n",
       "      <td>$35.00</td>\n",
       "      <td>...</td>\n",
       "      <td>NaN</td>\n",
       "      <td>NaN</td>\n",
       "      <td>NaN</td>\n",
       "      <td>NaN</td>\n",
       "      <td>NaN</td>\n",
       "      <td>NaN</td>\n",
       "      <td>NaN</td>\n",
       "      <td>NaN</td>\n",
       "      <td>Not Safe</td>\n",
       "      <td>NaN</td>\n",
       "    </tr>\n",
       "    <tr>\n",
       "      <th>1</th>\n",
       "      <td>22215734</td>\n",
       "      <td>https://www.airbnb.com/rooms/22215734</td>\n",
       "      <td>Guest suite in Culver City · ★4.94 · Studio · ...</td>\n",
       "      <td>162330741</td>\n",
       "      <td>Isaac</td>\n",
       "      <td>33.98326</td>\n",
       "      <td>-118.38873</td>\n",
       "      <td>Entire guest suite</td>\n",
       "      <td>Entire Home/Apartment</td>\n",
       "      <td>$119.00</td>\n",
       "      <td>...</td>\n",
       "      <td>great,</td>\n",
       "      <td>clean,</td>\n",
       "      <td>great place,</td>\n",
       "      <td>great stay,</td>\n",
       "      <td>great location,</td>\n",
       "      <td>nice,</td>\n",
       "      <td>airport</td>\n",
       "      <td>NaN</td>\n",
       "      <td>NaN</td>\n",
       "      <td>Top keywords of Comments:</td>\n",
       "    </tr>\n",
       "    <tr>\n",
       "      <th>2</th>\n",
       "      <td>23395506</td>\n",
       "      <td>https://www.airbnb.com/rooms/23395506</td>\n",
       "      <td>Guest suite in Los Angeles · ★4.99 · 1 bedroom...</td>\n",
       "      <td>174427526</td>\n",
       "      <td>Jeff and Shelley</td>\n",
       "      <td>34.04528</td>\n",
       "      <td>-118.42078</td>\n",
       "      <td>Entire guest suite</td>\n",
       "      <td>Entire Home/Apartment</td>\n",
       "      <td>$119.00</td>\n",
       "      <td>...</td>\n",
       "      <td>hosts,</td>\n",
       "      <td>great,</td>\n",
       "      <td>beautiful,</td>\n",
       "      <td>garden,</td>\n",
       "      <td>amazing,</td>\n",
       "      <td>great place,</td>\n",
       "      <td>amazing hosts</td>\n",
       "      <td>NaN</td>\n",
       "      <td>NaN</td>\n",
       "      <td>Top keywords of Comments:</td>\n",
       "    </tr>\n",
       "    <tr>\n",
       "      <th>3</th>\n",
       "      <td>39471761</td>\n",
       "      <td>https://www.airbnb.com/rooms/39471761</td>\n",
       "      <td>Guest suite in Hawthorne · ★4.93 · Studio · 1 ...</td>\n",
       "      <td>153462014</td>\n",
       "      <td>Grant</td>\n",
       "      <td>33.92186</td>\n",
       "      <td>-118.36916</td>\n",
       "      <td>Entire guest suite</td>\n",
       "      <td>Entire Home/Apartment</td>\n",
       "      <td>$142.00</td>\n",
       "      <td>...</td>\n",
       "      <td>great place,</td>\n",
       "      <td>great,</td>\n",
       "      <td>clean,</td>\n",
       "      <td>great stay,</td>\n",
       "      <td>great location,</td>\n",
       "      <td>nice,</td>\n",
       "      <td>nice place</td>\n",
       "      <td>NaN</td>\n",
       "      <td>NaN</td>\n",
       "      <td>Top keywords of Comments:</td>\n",
       "    </tr>\n",
       "  </tbody>\n",
       "</table>\n",
       "<p>4 rows × 32 columns</p>\n",
       "</div>"
      ],
      "text/plain": [
       "         id                            listing_url  \\\n",
       "0   7095631   https://www.airbnb.com/rooms/7095631   \n",
       "1  22215734  https://www.airbnb.com/rooms/22215734   \n",
       "2  23395506  https://www.airbnb.com/rooms/23395506   \n",
       "3  39471761  https://www.airbnb.com/rooms/39471761   \n",
       "\n",
       "                                                name    host_id  \\\n",
       "0  Condo in Torrance · ★4.70 · 1 bedroom · 1 bed ...    6205097   \n",
       "1  Guest suite in Culver City · ★4.94 · Studio · ...  162330741   \n",
       "2  Guest suite in Los Angeles · ★4.99 · 1 bedroom...  174427526   \n",
       "3  Guest suite in Hawthorne · ★4.93 · Studio · 1 ...  153462014   \n",
       "\n",
       "          host_name  latitude  longitude          property_type  \\\n",
       "0             Irina  33.82065 -118.30587  Private room in condo   \n",
       "1             Isaac  33.98326 -118.38873     Entire guest suite   \n",
       "2  Jeff and Shelley  34.04528 -118.42078     Entire guest suite   \n",
       "3             Grant  33.92186 -118.36916     Entire guest suite   \n",
       "\n",
       "               room_type    price  ...            one      two          three  \\\n",
       "0           Private Room   $35.00  ...            NaN      NaN            NaN   \n",
       "1  Entire Home/Apartment  $119.00  ...        great,   clean,   great place,    \n",
       "2  Entire Home/Apartment  $119.00  ...        hosts,   great,     beautiful,    \n",
       "3  Entire Home/Apartment  $142.00  ...  great place,   great,         clean,    \n",
       "\n",
       "           four              five            six          seven  safe  \\\n",
       "0           NaN               NaN            NaN            NaN   NaN   \n",
       "1  great stay,   great location,          nice,         airport   NaN   \n",
       "2      garden,          amazing,   great place,   amazing hosts   NaN   \n",
       "3  great stay,   great location,          nice,      nice place   NaN   \n",
       "\n",
       "   safe_all              keywords_title  \n",
       "0  Not Safe                         NaN  \n",
       "1       NaN  Top keywords of Comments:   \n",
       "2       NaN  Top keywords of Comments:   \n",
       "3       NaN  Top keywords of Comments:   \n",
       "\n",
       "[4 rows x 32 columns]"
      ]
     },
     "execution_count": 33,
     "metadata": {},
     "output_type": "execute_result"
    }
   ],
   "source": [
    "listing_safety_joined.to_csv('data/Airbnb_final.csv')\n",
    "listing_safety_joined"
   ]
  },
  {
   "cell_type": "code",
   "execution_count": null,
   "metadata": {},
   "outputs": [],
   "source": []
  }
 ],
 "metadata": {
  "kernelspec": {
   "display_name": "base",
   "language": "python",
   "name": "python3"
  },
  "language_info": {
   "codemirror_mode": {
    "name": "ipython",
    "version": 3
   },
   "file_extension": ".py",
   "mimetype": "text/x-python",
   "name": "python",
   "nbconvert_exporter": "python",
   "pygments_lexer": "ipython3",
   "version": "3.9.7"
  }
 },
 "nbformat": 4,
 "nbformat_minor": 2
}
